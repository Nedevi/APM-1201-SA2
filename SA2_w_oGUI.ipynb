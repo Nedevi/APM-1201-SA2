{
  "nbformat": 4,
  "nbformat_minor": 0,
  "metadata": {
    "colab": {
      "provenance": [],
      "authorship_tag": "ABX9TyN66sCiXfnkqLDMAHFObSmp",
      "include_colab_link": true
    },
    "kernelspec": {
      "name": "python3",
      "display_name": "Python 3"
    },
    "language_info": {
      "name": "python"
    }
  },
  "cells": [
    {
      "cell_type": "markdown",
      "metadata": {
        "id": "view-in-github",
        "colab_type": "text"
      },
      "source": [
        "<a href=\"https://colab.research.google.com/github/Nedevi/APM-1201-SA2/blob/main/SA2_w_oGUI.ipynb\" target=\"_parent\"><img src=\"https://colab.research.google.com/assets/colab-badge.svg\" alt=\"Open In Colab\"/></a>"
      ]
    },
    {
      "cell_type": "code",
      "execution_count": 6,
      "metadata": {
        "id": "OE5dtqyFWikg",
        "colab": {
          "base_uri": "https://localhost:8080/"
        },
        "outputId": "b3a3f6c0-1e95-4cc7-8d34-d54ca1b83fd9"
      },
      "outputs": [
        {
          "output_type": "stream",
          "name": "stdout",
          "text": [
            "Generated Codes:\n",
            "'h': 00\n",
            "'m': 010\n",
            "'f': 011\n",
            "'l': 100\n",
            "'o': 1010\n",
            "'a': 1011\n",
            "'u': 1100\n",
            "'n': 1101\n",
            "' ': 1110\n",
            "'e': 1111\n",
            "Encoded Text: 0011111001001010111000110001101101010111101\n",
            "Decoded Text: hello huffman\n",
            "All tests passed!\n"
          ]
        }
      ],
      "source": [
        "import heapq\n",
        "from collections import Counter\n",
        "\n",
        "class Node:\n",
        "    def __init__(self, char, freq):\n",
        "        self.char = char\n",
        "        self.freq = freq\n",
        "        self.left = None\n",
        "        self.right = None\n",
        "\n",
        "    def __lt__(self, other):\n",
        "        return self.freq < other.freq  # Compare nodes based on frequency\n",
        "\n",
        "class HuffmanTree:\n",
        "    def __init__(self, frequencies):\n",
        "        self.root = self.build_tree(frequencies)\n",
        "        self.codes = {}\n",
        "        self.generate_codes(self.root, \"\")\n",
        "\n",
        "    def build_tree(self, frequencies):\n",
        "        heap = [Node(char, freq) for char, freq in frequencies.items()]\n",
        "        heapq.heapify(heap)\n",
        "\n",
        "        while len(heap) > 1:\n",
        "            left = heapq.heappop(heap)\n",
        "            right = heapq.heappop(heap)\n",
        "            merged = Node(None, left.freq + right.freq)\n",
        "            merged.left = left\n",
        "            merged.right = right\n",
        "            heapq.heappush(heap, merged)\n",
        "\n",
        "        return heap[0]\n",
        "\n",
        "    def generate_codes(self, node, current_code):\n",
        "        if node is not None:\n",
        "            if node.char is not None:\n",
        "                self.codes[node.char] = current_code\n",
        "            self.generate_codes(node.left, current_code + \"0\")\n",
        "            self.generate_codes(node.right, current_code + \"1\")\n",
        "\n",
        "    def encode(self, text):\n",
        "        encoded_output = \"\"\n",
        "        for char in text:\n",
        "            encoded_output += self.codes[char]\n",
        "        return encoded_output\n",
        "\n",
        "    def decode(self, encoded_text):\n",
        "        current_node = self.root\n",
        "        decoded_output = \"\"\n",
        "        for bit in encoded_text:\n",
        "            current_node = current_node.left if bit == '0' else current_node.right\n",
        "            if current_node.char is not None:\n",
        "                decoded_output += current_node.char\n",
        "                current_node = self.root\n",
        "        return decoded_output\n",
        "\n",
        "# Test case\n",
        "def test_huffman_tree():\n",
        "    # Test input\n",
        "    test_text = \"hello huffman\"\n",
        "\n",
        "    # Calculate frequencies\n",
        "    frequencies = Counter(test_text)\n",
        "\n",
        "    # Create Huffman Tree\n",
        "    huffman_tree = HuffmanTree(frequencies)\n",
        "\n",
        "    # Test 1: Check generated codes\n",
        "    print(\"Generated Codes:\")\n",
        "    for char, code in huffman_tree.codes.items():\n",
        "        print(f\"'{char}': {code}\")\n",
        "\n",
        "    # Test 2: Check encoding\n",
        "    encoded_text = huffman_tree.encode(test_text)\n",
        "    print(f\"Encoded Text: {encoded_text}\")\n",
        "\n",
        "    # Test 3: Check decoding\n",
        "    decoded_text = huffman_tree.decode(encoded_text)\n",
        "    print(f\"Decoded Text: {decoded_text}\")\n",
        "\n",
        "    # Assertions\n",
        "    assert decoded_text == test_text, \"Decoded text does not match the original text.\"\n",
        "    print(\"All tests passed!\")\n",
        "\n",
        "# Run the test case\n",
        "test_huffman_tree()"
      ]
    }
  ]
}